{
 "cells": [
  {
   "cell_type": "code",
   "execution_count": 1,
   "id": "10dce442",
   "metadata": {},
   "outputs": [
    {
     "name": "stderr",
     "output_type": "stream",
     "text": [
      "C:\\Users\\fercy\\AppData\\Local\\Programs\\Python\\Python310\\lib\\site-packages\\requests\\__init__.py:102: RequestsDependencyWarning: urllib3 (1.26.15) or chardet (5.1.0)/charset_normalizer (2.0.12) doesn't match a supported version!\n",
      "  warnings.warn(\"urllib3 ({}) or chardet ({})/charset_normalizer ({}) doesn't match a supported \"\n"
     ]
    }
   ],
   "source": [
    "import requests\n",
    "from bs4 import BeautifulSoup\n",
    "import spacy\n",
    "import json\n",
    "from spacy.lang.en.stop_words import STOP_WORDS\n",
    "from string import punctuation\n",
    "from heapq import nlargest"
   ]
  },
  {
   "cell_type": "code",
   "execution_count": 2,
   "id": "98064f3b",
   "metadata": {},
   "outputs": [
    {
     "data": {
      "text/plain": [
       "'\"ssrcss-1q0x1qg-Paragraph eq5iqo00\"'"
      ]
     },
     "execution_count": 2,
     "metadata": {},
     "output_type": "execute_result"
    }
   ],
   "source": [
    "link='https://www.bbc.co.uk/news/world-us-canada-65394202'\n",
    "soup = BeautifulSoup(requests.get(link).content, \"html.parser\")\n",
    "\n",
    "parr=str(soup.findAll(\"p\")[0]).split(\">\")[0]\n",
    "parr = parr[9:]\n",
    "parr"
   ]
  },
  {
   "cell_type": "code",
   "execution_count": 4,
   "id": "307c4f10",
   "metadata": {
    "scrolled": true
   },
   "outputs": [
    {
     "name": "stdout",
     "output_type": "stream",
     "text": [
      "[\"British singer Ed Sheeran has appeared in a New York City court to deny that his song Thinking Out Loud copied Marvin Gaye's song Let's Get it On. \", \"Heirs of Gaye's co-writer, Ed Townsend, argue that Sheeran, Warner Music Group and Sony Music Publishing owe them money for allegedly stealing the song.\", 'As the case opened, a lawyer called Sheeran\\'s use of Gaye\\'s lyrics at his concerts a \"smoking gun\". ', \"The Grammy winner, 32, testified that he did not copy from Gaye's 1973 hit.\", 'Asked by lawyer Keisha Rice about another song he wrote, Take it Back, which contains the lyrics \"plagiarism is hidden\", Sheeran confirmed that he had written the words. ', '\"Those are my lyrics, yep,\" he said, adding: \"Can I give some context to them?\"', \"She said that if she wanted any context she would ask for it, and went on to ask him about concert footage recorded in Zurich showing him mixing lyrics from Gaye's song with Thinking Out Loud. \", 'Earlier, another lawyer for the family - civil rights advocate Ben Crump - told the court that the concert video amounted to a \"smoking gun\" confession.', 'Sheeran responded that he sometimes mixed together songs with similar chords at his performances, and appeared to grow frustrated when Ms Rice cut him off. ', '\"I feel like you don\\'t want me to answer because you know that what I\\'m going to say is actually going to make quite a lot of sense,\" he said.', '\"You could go from Let it Be to \\'No Woman, No Cry and switch back,\" Sheeran continued under oath, referring to the Beatles and Bob Marley classics. ', '\"If I had done what you\\'re accusing me of doing, I\\'d be a quite an idiot to stand on a stage in front of 20,000 people and do that.\"', 'In his opening statement, Mr Crump \"recognised the magic\" of Gaye\\'s song and \"decided to capture a bit of that magic for his own benefit\".', 'As the trial began on Tuesday, US District Judge Louis Stanton warned the seven-member jury that despite the fact that music will be played in court: \"We don\\'t allow dancing.\"', 'The trial is expected to last at least one week. If the jury finds the pop star liable for copyright infringement, the trial will enter a second phase to determine how much he owes. ', 'The court case comes as the singer prepares to launch a North American stadium tour and release a new album. ', 'This video can not be played', 'WATCH: Ed Sheeran arrives at court for copyright trial', 'Earlier on Tuesday, Sheeran\\'s lawyer argued that both songs are distinct from each other and that no artist should be allowed to \"monopolise\" commonly used musical chord progressions. ', '\"No one owns basic musical building blocks,\" said Ilene Farkas.', '\"The two songs share versions of a similar and unprotectable [sic] chord progression that was freely available to all songwriters,\" his lawyers said in an earlier court filing.', \"Mr Townsend's daughter testified before Sheeran, according to the New York Times. \", 'Kathryn Griffin-Townsend praised Sheeran as \"a great artist with a great future\", the newspaper reported. She told jurors she brought the case reluctantly, and because \"I have to protect my father\\'s legacy.\"', 'The latest trial comes one year after Sheeran was cleared at a trial in London of claims he copied his hit song Shape Of You.', \"The claim over Thinking Out Loud was originally lodged in 2018, not by Gaye's family but by investment banker David Pullman and a company called Structured Asset Sales (SAS), which has acquired a portion of the estate of Let's Get It On co-writer Ed Townsend.\", 'Seeking $100m (£90m) in damages, they allege that Sheeran and his co-writer Amy Wadge \"copied and exploited, without authorisation or credit\" the Gaye song, \"including but not limited to the melody, rhythms, harmonies, drums, bass line, backing chorus, tempo, syncopation and looping\".', 'Ms Wadge, and various expert musicologists, are expected to testify at the New York trial. ', 'This is not the only trial Sheeran is facing over Thinking Out Loud, which went to number one in the UK in 2014 and won song of the year at the Grammy Awards in 2016.', \"SAS has filed a second case, which is currently on pause, while a separate suit by another portion of Townsend's estate is awaiting trial.\", 'Put your logic skills to the test in this brainteaser', 'As property rents spiral, life on the road is attracting a new generation', 'Journalist Catrin Nye and her team expose control, intimidation and fear at this mysterious firm', 'Uncanny is back with more chilling real-life stories of the supernatural', '© 2023 BBC. The BBC is not responsible for the content of external sites. Read about our approach to external linking.']\n"
     ]
    }
   ],
   "source": [
    "text=[]\n",
    "for c in soup.findAll(\"p\",attrs={\"class\": \"ssrcss-1q0x1qg-Paragraph eq5iqo00\"}): # this is for bbc content\n",
    "    text.append(c.getText())\n",
    "text=str(text)\n",
    "print(text)"
   ]
  },
  {
   "cell_type": "code",
   "execution_count": 5,
   "id": "93787740",
   "metadata": {
    "scrolled": true
   },
   "outputs": [
    {
     "name": "stdout",
     "output_type": "stream",
     "text": [
      "'Asked by lawyer Keisha Rice about another song he wrote, Take it Back, which contains the lyrics \"plagiarism is hidden\", Sheeran confirmed that he had written the words. ', '\"Those are my lyrics, yep,\" he said, adding: \"Can I give some context to them?\"', \"She said that if she wanted any context she would ask for it, and went on to ask him about concert footage recorded in Zurich showing him mixing lyrics from Gaye's song with Thinking Out Loud. \",'The court case comes as the singer prepares to launch a North American stadium tour and release a new album. ', 'This video can not be played', 'WATCH: Ed Sheeran arrives at court for copyright trial', 'Earlier on Tuesday, Sheeran\\'s lawyer argued that both songs are distinct from each other and that no artist should be allowed to \"monopolise\" commonly used musical chord progressions. ','Seeking $100m (£90m) in damages, they allege that Sheeran and his co-writer Amy Wadge \"copied and exploited, without authorisation or credit\" the Gaye song, \"including but not limited to the melody, rhythms, harmonies, drums, bass line, backing chorus, tempo, syncopation and looping\".','The latest trial comes one year after Sheeran was cleared at a trial in London of claims he copied his hit song Shape Of You.'[\"British singer Ed Sheeran has appeared in a New York City court to deny that his song Thinking Out Loud copied Marvin Gaye's song Let's Get it On.'As the trial began on Tuesday, US District Judge Louis Stanton warned the seven-member jury that despite the fact that music will be played in court: \"We don\\'t allow dancing.\"',\n"
     ]
    }
   ],
   "source": [
    "per=0.2\n",
    "nlp = spacy.load('en_core_web_trf')\n",
    "doc= nlp(text)\n",
    "tokens=[token.text for token in doc]\n",
    "word_frequencies={}\n",
    "for word in doc:\n",
    "    if word.text.lower() not in list(STOP_WORDS):\n",
    "        if word.text.lower() not in punctuation:\n",
    "            if word.text not in word_frequencies.keys():\n",
    "                word_frequencies[word.text] = 1\n",
    "            else:\n",
    "                word_frequencies[word.text] += 1\n",
    "max_frequency=max(word_frequencies.values())\n",
    "for word in word_frequencies.keys():\n",
    "    word_frequencies[word]=word_frequencies[word]/max_frequency\n",
    "sentence_tokens= [sent for sent in doc.sents]\n",
    "sentence_scores = {}\n",
    "for sent in sentence_tokens:\n",
    "    for word in sent:\n",
    "        if word.text.lower() in word_frequencies.keys():\n",
    "            if sent not in sentence_scores.keys():                            \n",
    "                sentence_scores[sent]=word_frequencies[word.text.lower()]\n",
    "            else:\n",
    "                sentence_scores[sent]+=word_frequencies[word.text.lower()]\n",
    "select_length=int(len(sentence_tokens)*per)\n",
    "summary=nlargest(select_length, sentence_scores,key=sentence_scores.get)\n",
    "final_summary=[word.text for word in summary]\n",
    "summary=''.join(final_summary)\n",
    "print(summary)"
   ]
  },
  {
   "cell_type": "code",
   "execution_count": null,
   "id": "609b5a36",
   "metadata": {},
   "outputs": [],
   "source": []
  },
  {
   "cell_type": "code",
   "execution_count": null,
   "id": "eae63325",
   "metadata": {},
   "outputs": [],
   "source": []
  }
 ],
 "metadata": {
  "kernelspec": {
   "display_name": "Python 3 (ipykernel)",
   "language": "python",
   "name": "python3"
  },
  "language_info": {
   "codemirror_mode": {
    "name": "ipython",
    "version": 3
   },
   "file_extension": ".py",
   "mimetype": "text/x-python",
   "name": "python",
   "nbconvert_exporter": "python",
   "pygments_lexer": "ipython3",
   "version": "3.10.1"
  }
 },
 "nbformat": 4,
 "nbformat_minor": 5
}
